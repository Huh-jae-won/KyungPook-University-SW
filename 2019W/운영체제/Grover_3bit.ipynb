{
 "cells": [
  {
   "cell_type": "code",
   "execution_count": 1,
   "metadata": {},
   "outputs": [
    {
     "ename": "IBMQAccountCredentialsNotFound",
     "evalue": "'No IBM Quantum Experience credentials found.'",
     "output_type": "error",
     "traceback": [
      "\u001b[1;31m---------------------------------------------------------------------------\u001b[0m",
      "\u001b[1;31mIBMQAccountCredentialsNotFound\u001b[0m            Traceback (most recent call last)",
      "\u001b[1;32m<ipython-input-1-ebf62dccf0be>\u001b[0m in \u001b[0;36m<module>\u001b[1;34m\u001b[0m\n\u001b[0;32m      6\u001b[0m \u001b[1;32mfrom\u001b[0m \u001b[0mqiskit\u001b[0m\u001b[1;33m.\u001b[0m\u001b[0mvisualization\u001b[0m \u001b[1;32mimport\u001b[0m \u001b[1;33m*\u001b[0m\u001b[1;33m\u001b[0m\u001b[1;33m\u001b[0m\u001b[0m\n\u001b[0;32m      7\u001b[0m \u001b[1;31m# Loading your IBM Q account(s)\u001b[0m\u001b[1;33m\u001b[0m\u001b[1;33m\u001b[0m\u001b[1;33m\u001b[0m\u001b[0m\n\u001b[1;32m----> 8\u001b[1;33m \u001b[0mprovider\u001b[0m \u001b[1;33m=\u001b[0m \u001b[0mIBMQ\u001b[0m\u001b[1;33m.\u001b[0m\u001b[0mload_account\u001b[0m\u001b[1;33m(\u001b[0m\u001b[1;33m)\u001b[0m\u001b[1;33m\u001b[0m\u001b[1;33m\u001b[0m\u001b[0m\n\u001b[0m",
      "\u001b[1;32mC:\\ProgramData\\Anaconda3\\lib\\site-packages\\qiskit\\providers\\ibmq\\ibmqfactory.py\u001b[0m in \u001b[0;36mload_account\u001b[1;34m(self)\u001b[0m\n\u001b[0;32m    173\u001b[0m         \u001b[1;32mif\u001b[0m \u001b[1;32mnot\u001b[0m \u001b[0mcredentials_list\u001b[0m\u001b[1;33m:\u001b[0m\u001b[1;33m\u001b[0m\u001b[1;33m\u001b[0m\u001b[0m\n\u001b[0;32m    174\u001b[0m             raise IBMQAccountCredentialsNotFound(\n\u001b[1;32m--> 175\u001b[1;33m                 'No IBM Quantum Experience credentials found.')\n\u001b[0m\u001b[0;32m    176\u001b[0m \u001b[1;33m\u001b[0m\u001b[0m\n\u001b[0;32m    177\u001b[0m         \u001b[1;32mif\u001b[0m \u001b[0mlen\u001b[0m\u001b[1;33m(\u001b[0m\u001b[0mcredentials_list\u001b[0m\u001b[1;33m)\u001b[0m \u001b[1;33m>\u001b[0m \u001b[1;36m1\u001b[0m\u001b[1;33m:\u001b[0m\u001b[1;33m\u001b[0m\u001b[1;33m\u001b[0m\u001b[0m\n",
      "\u001b[1;31mIBMQAccountCredentialsNotFound\u001b[0m: 'No IBM Quantum Experience credentials found.'"
     ]
    }
   ],
   "source": [
    "%matplotlib inline\n",
    "# Importing standard Qiskit libraries and configuring account\n",
    "from qiskit import QuantumCircuit, execute, Aer, IBMQ, ClassicalRegister, QuantumRegister\n",
    "from qiskit.compiler import transpile, assemble\n",
    "from qiskit.tools.jupyter import *\n",
    "from qiskit.visualization import *\n",
    "# Loading your IBM Q account(s)\n",
    "# provider = IBMQ.load_account()"
   ]
  },
  {
   "cell_type": "code",
   "execution_count": null,
   "metadata": {},
   "outputs": [],
   "source": [
    "import math\n",
    "from math import pi\n",
    "qr = QuantumRegister(4,'q')\n",
    "qc = QuantumCircuit(4,4)\n"
   ]
  },
  {
   "cell_type": "code",
   "execution_count": null,
   "metadata": {},
   "outputs": [],
   "source": [
    "num = 3 # main큐비트 3개 이용\n",
    "user_input = 3 # input값\n",
    "# input값을 2진수로 표현\n",
    "in_list = [int((int(user_input/2)/2)%2),int((user_input/2)%2),(user_input%2)] \n",
    "def cccx(qc, qrs, angle=pi / 4):\n",
    "    #https://github.com/Qiskit/qiskit-aqua/blob/master/qiskit/aqua/circuits/gates/multi_control_toffoli_gate.py\n",
    "    # controlled-V\n",
    "    qc.h(qrs[3])\n",
    "    qc.cu1(-angle, qrs[0], qrs[3])\n",
    "    qc.h(qrs[3])\n",
    "    # ------------\n",
    "    qc.cx(qrs[0], qrs[1])\n",
    "    # controlled-Vdag\n",
    "    qc.h(qrs[3])\n",
    "    qc.cu1(angle, qrs[1], qrs[3])\n",
    "    qc.h(qrs[3])\n",
    "    # ---------------\n",
    "    qc.cx(qrs[0], qrs[1])\n",
    "    # controlled-V\n",
    "    qc.h(qrs[3])\n",
    "    qc.cu1(-angle, qrs[1], qrs[3])\n",
    "    qc.h(qrs[3])\n",
    "    # ------------\n",
    "    qc.cx(qrs[1], qrs[2])\n",
    "    # controlled-Vdag\n",
    "    qc.h(qrs[3])\n",
    "    qc.cu1(angle, qrs[2], qrs[3])\n",
    "    qc.h(qrs[3])\n",
    "    # ---------------\n",
    "    qc.cx(qrs[0], qrs[2])\n",
    "    # controlled-V\n",
    "    qc.h(qrs[3])\n",
    "    qc.cu1(-angle, qrs[2], qrs[3])\n",
    "    qc.h(qrs[3])\n",
    "    # ------------\n",
    "    qc.cx(qrs[1], qrs[2])\n",
    "    # controlled-Vdag\n",
    "    qc.h(qrs[3])\n",
    "    qc.cu1(angle, qrs[2], qrs[3])\n",
    "    qc.h(qrs[3])\n",
    "    # ---------------\n",
    "    qc.cx(qrs[0], qrs[2])\n",
    "    # controlled-V\n",
    "    qc.h(qrs[3])\n",
    "    qc.cu1(-angle, qrs[2], qrs[3])\n",
    "    qc.h(qrs[3])\n",
    "\n",
    "def oracle():\n",
    "    for i in range(num):\n",
    "        if in_list[i] == 0:\n",
    "            qc.x(i)\n",
    "        else :\n",
    "            qc.barrier(i)\n",
    "    qc.barrier(3)\n",
    "    cccx(qc,qr)\n",
    "    qc.barrier(0,1,2,3)\n",
    "    for i in range(num):\n",
    "        if in_list[i] == 0:\n",
    "            qc.x(i)\n",
    "        else :\n",
    "            qc.barrier(i)\n",
    "    \n",
    "def diffusionOperator():\n",
    "    for i in range(num):\n",
    "        qc.h(i)\n",
    "    for i in range(num):\n",
    "        qc.x(i)\n",
    "    qc.h(num-1)\n",
    "    qc.ccx(0,1,2)\n",
    "    qc.h(num-1)\n",
    "    qc.barrier(0,1)\n",
    "    for i in range(num):\n",
    "        qc.x(i)\n",
    "    for i in range(num):\n",
    "        qc.h(i)\n",
    "\n",
    "## main\n",
    "qc.x(3) # 보조큐비트 1로\n",
    "qc.barrier(0,1,2,3)\n",
    "\n",
    "for i in range(num+1): # 주 큐비트들 H적용\n",
    "    qc.h(i)\n",
    "qc.barrier(0,1,2,3)\n",
    "rotation = int(math.sqrt(2**num))\n",
    "\n",
    "for i in range(rotation):  # 반복 시행\n",
    "    oracle()\n",
    "    qc.barrier(0,1,2,3) # Oracle End\n",
    "    diffusionOperator()\n",
    "    qc.barrier(0,1,2,3) # diffusionOperator End\n",
    "\n",
    "qc.h(3)\n",
    "qc.barrier(0,1,2)\n",
    "qc.measure([0,1,2,3],[0,1,2,3])\n",
    "\n",
    "qc.draw()\n"
   ]
  },
  {
   "cell_type": "code",
   "execution_count": null,
   "metadata": {},
   "outputs": [],
   "source": [
    "simulator = Aer.get_backend('qasm_simulator')\n",
    "result = execute(qc, backend=simulator, shots=1024).result()\n",
    "counts = result.get_counts()\n",
    "plot_histogram(counts)"
   ]
  },
  {
   "cell_type": "code",
   "execution_count": null,
   "metadata": {},
   "outputs": [],
   "source": []
  }
 ],
 "metadata": {
  "kernelspec": {
   "display_name": "Python 3",
   "language": "python",
   "name": "python3"
  },
  "language_info": {
   "codemirror_mode": {
    "name": "ipython",
    "version": 3
   },
   "file_extension": ".py",
   "mimetype": "text/x-python",
   "name": "python",
   "nbconvert_exporter": "python",
   "pygments_lexer": "ipython3",
   "version": "3.7.7"
  }
 },
 "nbformat": 4,
 "nbformat_minor": 4
}
